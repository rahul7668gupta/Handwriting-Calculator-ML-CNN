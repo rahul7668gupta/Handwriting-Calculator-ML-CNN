{
 "cells": [
  {
   "cell_type": "markdown",
   "metadata": {},
   "source": [
    "# PREPARATION"
   ]
  },
  {
   "cell_type": "code",
   "execution_count": 1,
   "metadata": {},
   "outputs": [
    {
     "name": "stderr",
     "output_type": "stream",
     "text": [
      "Using TensorFlow backend.\n"
     ]
    }
   ],
   "source": [
    "import gzip, idx2numpy, pickle\n",
    "import numpy as np\n",
    "import pandas as pd\n",
    "import matplotlib.pyplot as plt\n",
    "import keras\n",
    "from keras.models import Sequential\n",
    "from keras.layers import Dense"
   ]
  },
  {
   "cell_type": "code",
   "execution_count": 2,
   "metadata": {},
   "outputs": [],
   "source": [
    "# FIX CONSTANT\n",
    "CLASS = 17\n",
    "THRESH = 100\n",
    "MAX_EPOCHS = 50\n",
    "N_SAMPLE_PLOT = 10\n",
    "PICKLE_FILE = 'dataset/data.pickle'\n",
    "MAP_SYMBOLS = {'+': 10, '-': 11, \n",
    "              'x': 12, '/': 13, \n",
    "              '(': 14, ')': 15, \n",
    "              ',': 16}\n",
    "VEC_SYMBOLS = np.vectorize(MAP_SYMBOLS.get)"
   ]
  },
  {
   "cell_type": "markdown",
   "metadata": {},
   "source": [
    "# LOAD DATA"
   ]
  },
  {
   "cell_type": "code",
   "execution_count": 3,
   "metadata": {},
   "outputs": [
    {
     "name": "stdout",
     "output_type": "stream",
     "text": [
      "Train: (60000, 28, 28) (60000,)\n",
      "Test:  (10000, 28, 28) (10000,)\n"
     ]
    }
   ],
   "source": [
    "# LOAD TRAIN AND TEST DATA\n",
    "data = ['train-images-idx3-ubyte.gz', 'train-labels-idx1-ubyte.gz', 't10k-images-idx3-ubyte.gz', 't10k-labels-idx1-ubyte.gz']\n",
    "\n",
    "for idx, filename in enumerate(data):\n",
    "     with gzip.open('dataset/' + filename, 'rb') as f:\n",
    "        temp = f.read()\n",
    "        data[idx] = idx2numpy.convert_from_string(temp)\n",
    "\n",
    "[X_train, y_train_label, X_test, y_test_label] = data\n",
    "# print Train and Test data size\n",
    "print('Train:', X_train.shape, y_train_label.shape)\n",
    "print('Test: ', X_test.shape, y_test_label.shape)"
   ]
  },
  {
   "cell_type": "markdown",
   "metadata": {},
   "source": [
    "Each sample data is 28x28 pixel of handwritten image, convert to numpy array consist of integer between 0-255"
   ]
  },
  {
   "cell_type": "code",
   "execution_count": 4,
   "metadata": {},
   "outputs": [
    {
     "name": "stdout",
     "output_type": "stream",
     "text": [
      "Train: (70000, 28, 28) (70000,)\n"
     ]
    }
   ],
   "source": [
    "# APPEND MNIST TRAIN AND TEST DATA\n",
    "X_train = np.append(X_train, X_test, axis=0)\n",
    "y_train_label = np.append(y_train_label, y_test_label, axis=0)\n",
    "print('Train:', X_train.shape, y_train_label.shape)"
   ]
  },
  {
   "cell_type": "code",
   "execution_count": 5,
   "metadata": {},
   "outputs": [],
   "source": [
    "def thresholding(x, thresh):\n",
    "    \"\"\"Masking image for simplify data.\n",
    "    Convert data to binary, each pixel greater or equal to threshold will convert as 1\n",
    "    \"\"\"\n",
    "    if x >= thresh:\n",
    "        temp = 1\n",
    "    else:\n",
    "        temp = 0\n",
    "    return temp\n",
    "thresholding_v = np.vectorize(thresholding)"
   ]
  },
  {
   "cell_type": "code",
   "execution_count": 6,
   "metadata": {},
   "outputs": [],
   "source": [
    "# Masking feature data\n",
    "X_train = thresholding_v(X_train, THRESH)"
   ]
  },
  {
   "cell_type": "code",
   "execution_count": 7,
   "metadata": {},
   "outputs": [],
   "source": [
    "# Reshape each sample to 1 dimension\n",
    "X_train = X_train.reshape(70000, -1)"
   ]
  },
  {
   "cell_type": "code",
   "execution_count": 8,
   "metadata": {},
   "outputs": [
    {
     "name": "stdout",
     "output_type": "stream",
     "text": [
      "Symbol: (4900, 28, 28) (4900,)\n"
     ]
    }
   ],
   "source": [
    "# LOAD SYMBOL DATA\n",
    "with open(PICKLE_FILE, 'rb') as f:\n",
    "    symbol_train = pickle.load(f)\n",
    "\n",
    "Xs_train = np.array(symbol_train['img'])\n",
    "ys_train_label = VEC_SYMBOLS(np.array(symbol_train['label']))\n",
    "print('Symbol:', Xs_train.shape, ys_train_label.shape)"
   ]
  },
  {
   "cell_type": "code",
   "execution_count": 9,
   "metadata": {},
   "outputs": [],
   "source": [
    "Xs_train = Xs_train.reshape(4900, -1)"
   ]
  },
  {
   "cell_type": "code",
   "execution_count": 10,
   "metadata": {},
   "outputs": [
    {
     "name": "stdout",
     "output_type": "stream",
     "text": [
      "(49000, 784) (49000,)\n"
     ]
    }
   ],
   "source": [
    "temp = Xs_train\n",
    "temp_label = ys_train_label\n",
    "for i in range(9):\n",
    "    temp = np.append(temp, Xs_train, axis=0)\n",
    "    temp_label = np.append(temp_label, ys_train_label, axis=0)\n",
    "print(temp.shape, temp_label.shape)\n",
    "Xs_train = temp\n",
    "ys_train_label = temp_label"
   ]
  },
  {
   "cell_type": "code",
   "execution_count": 11,
   "metadata": {},
   "outputs": [],
   "source": [
    "X_train = np.append(X_train, Xs_train, axis=0)\n",
    "y_train_label = np.append(y_train_label, ys_train_label, axis=0)"
   ]
  },
  {
   "cell_type": "code",
   "execution_count": 12,
   "metadata": {},
   "outputs": [
    {
     "name": "stdout",
     "output_type": "stream",
     "text": [
      "(119000, 784) (119000,)\n"
     ]
    }
   ],
   "source": [
    "print(X_train.shape, y_train_label.shape)"
   ]
  },
  {
   "cell_type": "code",
   "execution_count": 13,
   "metadata": {},
   "outputs": [],
   "source": [
    "# One hot encode label data\n",
    "y_train = np.eye(CLASS)[y_train_label]"
   ]
  },
  {
   "cell_type": "markdown",
   "metadata": {},
   "source": [
    "# TRAIN MODEL"
   ]
  },
  {
   "cell_type": "code",
   "execution_count": 14,
   "metadata": {},
   "outputs": [
    {
     "name": "stdout",
     "output_type": "stream",
     "text": [
      "Model: \"sequential_1\"\n",
      "_________________________________________________________________\n",
      "Layer (type)                 Output Shape              Param #   \n",
      "=================================================================\n",
      "dense_1 (Dense)              (None, 20)                15700     \n",
      "_________________________________________________________________\n",
      "dense_2 (Dense)              (None, 20)                420       \n",
      "_________________________________________________________________\n",
      "dense_3 (Dense)              (None, 17)                357       \n",
      "=================================================================\n",
      "Total params: 16,477\n",
      "Trainable params: 16,477\n",
      "Non-trainable params: 0\n",
      "_________________________________________________________________\n"
     ]
    }
   ],
   "source": [
    "# CREATE MODEL \n",
    "model = Sequential()\n",
    "model.add(Dense(20, activation='relu', input_shape=(X_train.shape[1],)))\n",
    "model.add(Dense(20, activation='relu'))\n",
    "model.add(Dense(CLASS, activation='softmax'))\n",
    "model.compile(loss='categorical_crossentropy', optimizer='Adam', metrics=['accuracy'])\n",
    "model.summary()"
   ]
  },
  {
   "cell_type": "code",
   "execution_count": 15,
   "metadata": {},
   "outputs": [],
   "source": [
    "history = model.fit(X_train, y_train, epochs=MAX_EPOCHS, verbose=0)"
   ]
  },
  {
   "cell_type": "code",
   "execution_count": 16,
   "metadata": {},
   "outputs": [
    {
     "name": "stdout",
     "output_type": "stream",
     "text": [
      "119000/119000 [==============================] - 5s 38us/step\n",
      "train score:  99.09 %\n"
     ]
    }
   ],
   "source": [
    "print (\"train score: \",round(model.evaluate(X_train, y_train)[1]*100, 2) , \"%\")"
   ]
  },
  {
   "cell_type": "code",
   "execution_count": 17,
   "metadata": {},
   "outputs": [],
   "source": [
    "model.save('model.h5')"
   ]
  },
  {
   "cell_type": "code",
   "execution_count": 18,
   "metadata": {},
   "outputs": [
    {
     "data": {
      "text/plain": [
       "[<matplotlib.lines.Line2D at 0x2b28ae67c50>]"
      ]
     },
     "execution_count": 18,
     "metadata": {},
     "output_type": "execute_result"
    },
    {
     "data": {
      "image/png": "[encoded data removed]",
      "text/plain": [
       "<Figure size 432x288 with 1 Axes>"
      ]
     },
     "metadata": {
      "needs_background": "light"
     },
     "output_type": "display_data"
    }
   ],
   "source": [
    "# Plot accuracy train vs test data\n",
    "plt.plot(history.history['accuracy'])"
   ]
  }
 ],
 "metadata": {
  "kernelspec": {
   "display_name": "Python 3",
   "language": "python",
   "name": "python3"
  },
  "language_info": {
   "codemirror_mode": {
    "name": "ipython",
    "version": 3
   },
   "file_extension": ".py",
   "mimetype": "text/x-python",
   "name": "python",
   "nbconvert_exporter": "python",
   "pygments_lexer": "ipython3",
   "version": "3.7.3"
  }
 },
 "nbformat": 4,
 "nbformat_minor": 2
}
